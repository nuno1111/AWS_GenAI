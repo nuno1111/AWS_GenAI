{
 "cells": [
  {
   "cell_type": "markdown",
   "metadata": {},
   "source": [
    "## 01. 기본정보 셋팅"
   ]
  },
  {
   "cell_type": "code",
   "execution_count": 9,
   "metadata": {},
   "outputs": [],
   "source": [
    "\n",
    "from lib.custom_confluence import ConfluenceLoader\n",
    "# from langchain_community.document_loaders import ConfluenceLoader\n",
    "# from langchain.document_loaders.confluence import ContentFormat\n",
    "from langchain.text_splitter import CharacterTextSplitter\n",
    "from dotenv import load_dotenv\n",
    "import os\n",
    "\n",
    "# .env 파일 로드\n",
    "load_dotenv()\n",
    "\n",
    "url = os.getenv(\"CONFLUENCE_URL\")\n",
    "username = os.getenv(\"CONFLUENCE_USERNAME\")\n",
    "api_key = os.getenv(\"CONFLUENCE_API_KEY\")\n",
    "\n",
    "\n"
   ]
  },
  {
   "cell_type": "markdown",
   "metadata": {},
   "source": [
    "## 02.Custom Conflence Loader로 OCR + Bedrock 처리 후 정보 가져오기"
   ]
  },
  {
   "cell_type": "code",
   "execution_count": 2,
   "metadata": {},
   "outputs": [
    {
     "name": "stdout",
     "output_type": "stream",
     "text": [
      "CD_CNTNT CMM_CD CD_VAL \n",
      "1 Sales 22 일반 \n",
      "2 Sales 23 오늘도착 \n",
      "3 Sales 90 S-VIP \n",
      "4 Sales 91 배송불필요:수거지시 후 반품취소 \n",
      "5 Sales 93 맞교환 주문 \n",
      "6 Sales 97 배송불필요 \n",
      "7 Sales 9H 도착일 선택 \n",
      "8 Sales 9N 식품당일배송 \n",
      "9 Sales 9S 재고범위내 출하 \n",
      "10 Sales 9T 선출 \n",
      "11 Sales 9Y 요우커지정일 \n",
      "12 Sales 9Z 요우커일반 \n",
      "13 Return 01 수거필요 \n",
      "14 Return 02 수거불필요:택배사분실 \n",
      "15 Return 03 수거불필요:택배사분실 \n",
      "16 Return 04 수거불필요:업체 입고완료건 \n",
      "17 Return 05 수거불필요:카드도용고객 \n",
      "18 Return 06 수거불필요:AS불가 \n",
      "19 Return 07 수거불필요:가주문반품건 \n",
      "20 Return 08 수거불필요:기타 \n",
      "21 Return 09 맞교환 반품 \n",
      "22 Return OA 수거불필요:고객직접발송 \n",
      "23 Return 10 반품취소 \n",
      "24 Return 11 수취거절:배송전 취소 \n",
      "25 Return 12 수거지정일 \n",
      "26 Return 13 편의점반품 \n",
      "27 Return 14 수거불필요:편의점분실 \n",
      "28 Return 92 수거볼필요:수거지시 후 반품취소\n"
     ]
    }
   ],
   "source": [
    "\n",
    "# Confluence 접속 정보\n",
    "loader = ConfluenceLoader(\n",
    "    url=url,\n",
    "    username=username,\n",
    "    api_key=api_key,\n",
    "    # space_key=\"SD\",\n",
    "    page_ids=['63897603'],  # 로드할 페이지의 ID\n",
    "    include_attachments=True,\n",
    "    ocr_languages=\"eng+kor\",\n",
    "    keep_markdown_format=True\n",
    "    # content_format=ContentFormat.EDITOR\n",
    "    # limit=500,\n",
    ")\n",
    "documents = loader.load()\n",
    "# print(documents)\n"
   ]
  },
  {
   "cell_type": "markdown",
   "metadata": {},
   "source": [
    "## 03. Markdown TextSplitter로 데이터 분할하기"
   ]
  },
  {
   "cell_type": "code",
   "execution_count": 3,
   "metadata": {},
   "outputs": [
    {
     "name": "stdout",
     "output_type": "stream",
     "text": [
      "Split 1:\n",
      "{'page_content': 'note이 템플릿은 온라인 회의 관리 도구 Meetical에서 제공합니다.  \\n이 템플릿은 온라인 회의 관리 도구 Meetical에서 제공합니다.  \\n| **날짜** | //를 입력하여 날짜를 추가 |\\n| --- | --- |\\n| **시간** | 예: 오전 10:00~10:30 KST |\\n| **참여자** | 참가자 @ 멘션 |\\n| **위치** | /link를 입력하여 화상 회의 링크를 추가 |\\n| **회의 유형** | 예: 주간 체크인 회의 |\\n| **자료** | /링크를 입력하여 이전 미팅 메모 또는 기타 자료를 추가 |  \\n재미 있고 편안한 분위기에서 회의를 시작하여 대화를 준비합니다. 그런 다음 목표를 향한 진행 상황에 대해 논의하기 전에 서로 열린 질문을 하는 시간을 가집니다.', 'metadata': {'markdown_metadata': {}, 'document_metadata': {'title': '페이지내 이미지 테스트', 'id': '63897603', 'source': 'https://lge-web-project.atlassian.net/wiki/spaces/SD/pages/63897603', 'when': '2024-06-02T01:32:45.382Z'}}}\n",
      "\n",
      "Split 2:\n",
      "{'page_content': '회의 전에 표를 채웁니다. 지난 회의 이후 배운 점과 다음 회의에서 달성하려는 점에 대한 질문을 추가합니다.  \\n| **참가자** | **마지막으로 만난 이후의 우선 순위** | **다시 만날 때까지의 우선 순위** |\\n| --- | --- | --- |\\n| 첫 번째 참가자 @멘션 | * 예: 마지막 만난 이후에 프로젝트에 대해 무엇을 알게 되었습니까? * | * 예: 다음 주 영업 프레젠테이션을 어떻게 준비해야 합니까? * |\\n| 두 번째 참가자 @ 멘션 | * 예: 최근에 작업의 속도를 늦추거나 작업에 방해가 된 요인이 있습니까? * | * 예: 분기별 목표에 얼마나 많은 진전이 있었습니까? * |', 'metadata': {'markdown_metadata': {'Header 2': '목표 및 진행 상황'}, 'document_metadata': {'title': '페이지내 이미지 테스트', 'id': '63897603', 'source': 'https://lge-web-project.atlassian.net/wiki/spaces/SD/pages/63897603', 'when': '2024-06-02T01:32:45.382Z'}}}\n",
      "\n",
      "Split 3:\n",
      "{'page_content': '회의 전에 토론 토픽을 추가합니다.  \\n|  | **토픽** | **설명** | **결과** |\\n| --- | --- | --- | --- |\\n| 1 | 토픽을 설명합니다 | 토픽이 무엇인지와 토픽이 작업에 미치는 영향을 설명합니다 | 회의 중에 얻은 결과 및 결정을 기록하세요 |\\n| 2 |  |  |  |\\n| 3 |  |  |  |', 'metadata': {'markdown_metadata': {'Header 2': '중요한 주제'}, 'document_metadata': {'title': '페이지내 이미지 테스트', 'id': '63897603', 'source': 'https://lge-web-project.atlassian.net/wiki/spaces/SD/pages/63897603', 'when': '2024-06-02T01:32:45.382Z'}}}\n",
      "\n",
      "Split 4:\n",
      "{'page_content': '회의 중에 만든 작업 항목을 추가하고 진행하면서 확인란에 표시합니다.  \\n1\\nincomplete  \\n2\\nincomplete  \\n3\\nincomplete  \\n859432c27b5369b6625dc524dafbe5284bcbb521ec1bddfcac717fe3.png이미지는 테이블 형식으로 구성되어 있습니다. OCR 결과를 바탕으로 테이블 데이터를 추출하면 다음과 같습니다:  \\n| CD_CNTNT | CMM_CD | CD_VAL                                  |\\n|----------|---------|------------------------------------------|\\n| Sales    | 22      | 일반                                     |\\n| Sales    | 23      | 오늘도착                                 |\\n| Sales    | 90      | S-VIP                                    |\\n| Sales    | 91      | 배송불필요:수거지시 후 반품취소          |\\n| Sales    | 93      | 맞교환 주문                              |\\n| Sales    | 97      | 배송불필요                               |\\n| Sales    | 9H      | 도착일 선택                              |\\n| Sales    | 9N      | 식품당일배송                             |\\n| Sales    | 9S      | 재고범위내 출하                          |\\n| Sales    | 9T      | 선출                                     |\\n| Sales    | 9Y      | 요우커지정일                             |\\n| Sales    | 9Z      | 요우커일반                               |\\n| Return   | 01      | 수거필요                                 |\\n| Return   | 02      | 수거불필요:택배사분실                    |\\n| Return   | 03      | 수거불필요:택배사분실                    |\\n| Return   | 04      | 수거불필요:업체 입고완료건               |\\n| Return   | 05      | 수거불필요:카드도용고객                  |\\n| Return   | 06      | 수거불필요:AS불가                        |\\n| Return   | 07      | 수거불필요:가주문반품건                  |\\n| Return   | 08      | 수거불필요:기타                          |\\n| Return   | 09      | 맞교환 반품                              |\\n| Return   | OA      | 수거불필요:고객직접발송                  |\\n| Return   | 10      | 반품취소                                 |\\n| Return   | 11      | 수취거절:배송전 취소                     |\\n| Return   | 12      | 수거지정일                               |\\n| Return   | 13      | 편의점반품                               |\\n| Return   | 14      | 수거불필요:편의점분실                    |\\n| Return   | 92      | 수거볼필요:수거지시 후 반품취소          |', 'metadata': {'markdown_metadata': {'Header 2': '작업 항목'}, 'document_metadata': {'title': '페이지내 이미지 테스트', 'id': '63897603', 'source': 'https://lge-web-project.atlassian.net/wiki/spaces/SD/pages/63897603', 'when': '2024-06-02T01:32:45.382Z'}}}\n",
      "\n"
     ]
    }
   ],
   "source": [
    "\n",
    "from langchain.text_splitter import MarkdownHeaderTextSplitter, RecursiveCharacterTextSplitter\n",
    "\n",
    "# 마크다운 헤더를 기준으로 분할\n",
    "markdown_splitter = MarkdownHeaderTextSplitter(\n",
    "    headers_to_split_on=[\n",
    "        (\"#\", \"Header 1\"),\n",
    "        (\"##\", \"Header 2\"),\n",
    "        (\"###\", \"Header 3\"),\n",
    "    ]\n",
    ")\n",
    "\n",
    "# 문자 수를 기준으로 분할\n",
    "char_splitter = RecursiveCharacterTextSplitter(\n",
    "    chunk_size=1000,\n",
    "    chunk_overlap=200\n",
    ")\n",
    "\n",
    "# 1. 각 Page 별로 split 수행후 \n",
    "# 2. Markdown header기준으로 분리하고\n",
    "# 3. 최종 배열에 Page Content / Markdown Metadata / Conflent Page Metadata 입력\n",
    "final_splits = []\n",
    "for document in documents:\n",
    "    # print(document.page_content)\n",
    "    # print(doc.metadata)\n",
    "    \n",
    "    # markdown 데이터 분할\n",
    "    markdown_splits = markdown_splitter.split_text(document.page_content)\n",
    "    # print(markdown_splits)\n",
    "    \n",
    "    for markdown_split in markdown_splits:\n",
    "        final_splits.append({\n",
    "                    \"page_content\": markdown_split.page_content,\n",
    "                    \"metadata\":{\n",
    "                        \"markdown_metadata\": markdown_split.metadata,\n",
    "                        \"document_metadata\": document.metadata\n",
    "                    }\n",
    "        })\n",
    "        \n",
    "for i, split in enumerate(final_splits):\n",
    "    print(f\"Split {i + 1}:\\n{split}\\n\")\n",
    "\n"
   ]
  },
  {
   "cell_type": "markdown",
   "metadata": {},
   "source": [
    "## 04. AOSS indexing 진행하기 "
   ]
  },
  {
   "cell_type": "code",
   "execution_count": 6,
   "metadata": {},
   "outputs": [
    {
     "name": "stdout",
     "output_type": "stream",
     "text": [
      "Success to get index\n",
      "Success to get index\n",
      "Success to get index\n",
      "Success to get index\n"
     ]
    }
   ],
   "source": [
    "from lib.bedrock import get_embedding_output\n",
    "\n",
    "data_list = []\n",
    "embedding_dimension = 1024\n",
    "\n",
    "for doc in final_splits:\n",
    "    content = doc[\"page_content\"]\n",
    "    meta = doc[\"metadata\"]\n",
    "    embedding = get_embedding_output(content)\n",
    "    \n",
    "    if embedding and len(embedding) == embedding_dimension:\n",
    "        data_list.append({\n",
    "            \"content\": content,\n",
    "            \"content_embeddings\": embedding,\n",
    "            \"metadata\": meta,\n",
    "        })\n",
    "        print(\"Success to get index\")\n",
    "    else:\n",
    "        print(f\"Error: {content}\")"
   ]
  },
  {
   "cell_type": "code",
   "execution_count": 11,
   "metadata": {},
   "outputs": [],
   "source": [
    "from lib.opensearch import getOpenSearchClient\n",
    "aoss_client = getOpenSearchClient()\n",
    "\n",
    "vector_index_name = os.getenv(\"AOSS_VECTOR_INDEX\")"
   ]
  },
  {
   "cell_type": "code",
   "execution_count": 12,
   "metadata": {},
   "outputs": [
    {
     "name": "stdout",
     "output_type": "stream",
     "text": [
      "{'_index': 'rag-hol-index-vector', '_id': '1%3A0%3ADHdtaJABoZyGEX8r3Mx0', '_version': 1, 'result': 'created', '_shards': {'total': 0, 'successful': 0, 'failed': 0}, '_seq_no': 0, '_primary_term': 0}\n",
      "{'_index': 'rag-hol-index-vector', '_id': '1%3A0%3AnJltaJABwAR7yjnm3_i3', '_version': 1, 'result': 'created', '_shards': {'total': 0, 'successful': 0, 'failed': 0}, '_seq_no': 0, '_primary_term': 0}\n",
      "{'_index': 'rag-hol-index-vector', '_id': '1%3A0%3ADXdtaJABoZyGEX8r4czY', '_version': 1, 'result': 'created', '_shards': {'total': 0, 'successful': 0, 'failed': 0}, '_seq_no': 0, '_primary_term': 0}\n",
      "{'_index': 'rag-hol-index-vector', '_id': '1%3A0%3AnZltaJABwAR7yjnm4_ii', '_version': 1, 'result': 'created', '_shards': {'total': 0, 'successful': 0, 'failed': 0}, '_seq_no': 0, '_primary_term': 0}\n"
     ]
    }
   ],
   "source": [
    "for data in data_list:\n",
    "    try:\n",
    "        response = aoss_client.index(index=vector_index_name, body=data)\n",
    "        print(response)\n",
    "    except Exception as e:\n",
    "        print(f\"Error: {e}\")"
   ]
  },
  {
   "cell_type": "code",
   "execution_count": null,
   "metadata": {},
   "outputs": [],
   "source": []
  }
 ],
 "metadata": {
  "kernelspec": {
   "display_name": ".venv",
   "language": "python",
   "name": "python3"
  },
  "language_info": {
   "codemirror_mode": {
    "name": "ipython",
    "version": 3
   },
   "file_extension": ".py",
   "mimetype": "text/x-python",
   "name": "python",
   "nbconvert_exporter": "python",
   "pygments_lexer": "ipython3",
   "version": "3.12.2"
  }
 },
 "nbformat": 4,
 "nbformat_minor": 2
}
